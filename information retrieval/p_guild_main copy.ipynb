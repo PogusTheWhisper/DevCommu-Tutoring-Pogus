{
 "cells": [
  {
   "cell_type": "code",
   "execution_count": 1,
   "metadata": {},
   "outputs": [
    {
     "name": "stdout",
     "output_type": "stream",
     "text": [
      "Note: you may need to restart the kernel to use updated packages.\n"
     ]
    }
   ],
   "source": [
    "%pip install -Uq pip pandas numpy tqdm nltk Pylance"
   ]
  },
  {
   "cell_type": "code",
   "execution_count": 2,
   "metadata": {},
   "outputs": [
    {
     "name": "stderr",
     "output_type": "stream",
     "text": [
      "/Users/pogus-mac/Library/CloudStorage/GoogleDrive-gusjangkid@gmail.com/My Drive/Project-VScode/DevCommu-Tutoring-Pogus/information retrieval/.venv/lib/python3.12/site-packages/tqdm/auto.py:21: TqdmWarning: IProgress not found. Please update jupyter and ipywidgets. See https://ipywidgets.readthedocs.io/en/stable/user_install.html\n",
      "  from .autonotebook import tqdm as notebook_tqdm\n",
      "[nltk_data] Downloading package stopwords to /Users/pogus-\n",
      "[nltk_data]     mac/nltk_data...\n",
      "[nltk_data]   Package stopwords is already up-to-date!\n"
     ]
    }
   ],
   "source": [
    "import pandas as pd\n",
    "import numpy as np\n",
    "from tqdm.auto import tqdm\n",
    "import nltk\n",
    "from nltk.corpus import stopwords\n",
    "nltk.download('stopwords')\n",
    "tqdm.pandas()"
   ]
  },
  {
   "cell_type": "code",
   "execution_count": 3,
   "metadata": {},
   "outputs": [
    {
     "data": {
      "text/html": [
       "<div>\n",
       "<style scoped>\n",
       "    .dataframe tbody tr th:only-of-type {\n",
       "        vertical-align: middle;\n",
       "    }\n",
       "\n",
       "    .dataframe tbody tr th {\n",
       "        vertical-align: top;\n",
       "    }\n",
       "\n",
       "    .dataframe thead th {\n",
       "        text-align: right;\n",
       "    }\n",
       "</style>\n",
       "<table border=\"1\" class=\"dataframe\">\n",
       "  <thead>\n",
       "    <tr style=\"text-align: right;\">\n",
       "      <th></th>\n",
       "      <th>title</th>\n",
       "      <th>author_id</th>\n",
       "    </tr>\n",
       "  </thead>\n",
       "  <tbody>\n",
       "    <tr>\n",
       "      <th>0</th>\n",
       "      <td>5 Best Practices For Writing SQL Joins</td>\n",
       "      <td>priyankab14</td>\n",
       "    </tr>\n",
       "    <tr>\n",
       "      <th>1</th>\n",
       "      <td>Foundation CSS Dropdown Menu</td>\n",
       "      <td>ishankhandelwals</td>\n",
       "    </tr>\n",
       "    <tr>\n",
       "      <th>2</th>\n",
       "      <td>Top 20 Excel Shortcuts That You Need To Know</td>\n",
       "      <td>priyankab14</td>\n",
       "    </tr>\n",
       "    <tr>\n",
       "      <th>3</th>\n",
       "      <td>Servlet – Fetching Result</td>\n",
       "      <td>nishatiwari1719</td>\n",
       "    </tr>\n",
       "    <tr>\n",
       "      <th>4</th>\n",
       "      <td>Suffix Sum Array</td>\n",
       "      <td>rohit768</td>\n",
       "    </tr>\n",
       "  </tbody>\n",
       "</table>\n",
       "</div>"
      ],
      "text/plain": [
       "                                          title         author_id\n",
       "0        5 Best Practices For Writing SQL Joins       priyankab14\n",
       "1                  Foundation CSS Dropdown Menu  ishankhandelwals\n",
       "2  Top 20 Excel Shortcuts That You Need To Know       priyankab14\n",
       "3                     Servlet – Fetching Result   nishatiwari1719\n",
       "4                              Suffix Sum Array          rohit768"
      ]
     },
     "execution_count": 3,
     "metadata": {},
     "output_type": "execute_result"
    }
   ],
   "source": [
    "data = pd.read_csv(\"data/articles.csv\")\n",
    "data = data.drop(list(data.columns)[2:], axis=1)\n",
    "data.head()"
   ]
  },
  {
   "cell_type": "code",
   "execution_count": 4,
   "metadata": {},
   "outputs": [
    {
     "name": "stderr",
     "output_type": "stream",
     "text": [
      "100%|██████████| 34574/34574 [00:12<00:00, 2672.97it/s]\n"
     ]
    }
   ],
   "source": [
    "all_doc: list[str] = []\n",
    "data['remove_stopwords'] = ''\n",
    "data['remove_duplicate'] = ''\n",
    "\n",
    "for i in tqdm(range(len(data))):\n",
    "    words: list[str] = data[\"title\"][i].lower().split(\" \")  # define variable\n",
    "    author: list[str] = str(data[\"author_id\"][i]).lower()\n",
    "    no_stopwords = [word for word in words if word not in stopwords.words('english')]\n",
    "    no_stopwords.append(author)\n",
    "    no_stopwords = sorted(no_stopwords)\n",
    "    all_doc.append(no_stopwords)\n",
    "    data.at[i, 'remove_stopwords'] = list(sorted(set(no_stopwords))) # no dup\n",
    "    data.at[i, 'remove_duplicate'] = no_stopwords\n",
    "        \n",
    "# all_words = list(set(all_doc))\n",
    "# # remove stopwords\n",
    "# all_words = [word for word in all_words if word not in stopwords.words('english')]\n",
    "# print(\"containing\", len(all_words), \"unique words\")"
   ]
  },
  {
   "cell_type": "code",
   "execution_count": 5,
   "metadata": {},
   "outputs": [
    {
     "data": {
      "text/plain": [
       "[['5', 'best', 'joins', 'practices', 'priyankab14', 'sql', 'writing'],\n",
       " ['css', 'dropdown', 'foundation', 'ishankhandelwals', 'menu'],\n",
       " ['20', 'excel', 'know', 'need', 'priyankab14', 'shortcuts', 'top'],\n",
       " ['fetching', 'nishatiwari1719', 'result', 'servlet', '–'],\n",
       " ['array', 'rohit768', 'suffix', 'sum']]"
      ]
     },
     "execution_count": 5,
     "metadata": {},
     "output_type": "execute_result"
    }
   ],
   "source": [
    "all_doc[:5]"
   ]
  },
  {
   "cell_type": "code",
   "execution_count": 6,
   "metadata": {},
   "outputs": [
    {
     "data": {
      "text/html": [
       "<div>\n",
       "<style scoped>\n",
       "    .dataframe tbody tr th:only-of-type {\n",
       "        vertical-align: middle;\n",
       "    }\n",
       "\n",
       "    .dataframe tbody tr th {\n",
       "        vertical-align: top;\n",
       "    }\n",
       "\n",
       "    .dataframe thead th {\n",
       "        text-align: right;\n",
       "    }\n",
       "</style>\n",
       "<table border=\"1\" class=\"dataframe\">\n",
       "  <thead>\n",
       "    <tr style=\"text-align: right;\">\n",
       "      <th></th>\n",
       "      <th>title</th>\n",
       "      <th>author_id</th>\n",
       "      <th>remove_stopwords</th>\n",
       "      <th>remove_duplicate</th>\n",
       "    </tr>\n",
       "  </thead>\n",
       "  <tbody>\n",
       "    <tr>\n",
       "      <th>0</th>\n",
       "      <td>5 Best Practices For Writing SQL Joins</td>\n",
       "      <td>priyankab14</td>\n",
       "      <td>[5, best, joins, practices, priyankab14, sql, ...</td>\n",
       "      <td>[5, best, joins, practices, priyankab14, sql, ...</td>\n",
       "    </tr>\n",
       "    <tr>\n",
       "      <th>1</th>\n",
       "      <td>Foundation CSS Dropdown Menu</td>\n",
       "      <td>ishankhandelwals</td>\n",
       "      <td>[css, dropdown, foundation, ishankhandelwals, ...</td>\n",
       "      <td>[css, dropdown, foundation, ishankhandelwals, ...</td>\n",
       "    </tr>\n",
       "    <tr>\n",
       "      <th>2</th>\n",
       "      <td>Top 20 Excel Shortcuts That You Need To Know</td>\n",
       "      <td>priyankab14</td>\n",
       "      <td>[20, excel, know, need, priyankab14, shortcuts...</td>\n",
       "      <td>[20, excel, know, need, priyankab14, shortcuts...</td>\n",
       "    </tr>\n",
       "    <tr>\n",
       "      <th>3</th>\n",
       "      <td>Servlet – Fetching Result</td>\n",
       "      <td>nishatiwari1719</td>\n",
       "      <td>[fetching, nishatiwari1719, result, servlet, –]</td>\n",
       "      <td>[fetching, nishatiwari1719, result, servlet, –]</td>\n",
       "    </tr>\n",
       "    <tr>\n",
       "      <th>4</th>\n",
       "      <td>Suffix Sum Array</td>\n",
       "      <td>rohit768</td>\n",
       "      <td>[array, rohit768, suffix, sum]</td>\n",
       "      <td>[array, rohit768, suffix, sum]</td>\n",
       "    </tr>\n",
       "    <tr>\n",
       "      <th>...</th>\n",
       "      <td>...</td>\n",
       "      <td>...</td>\n",
       "      <td>...</td>\n",
       "      <td>...</td>\n",
       "    </tr>\n",
       "    <tr>\n",
       "      <th>34569</th>\n",
       "      <td>Data Structures | Queue | Question 11</td>\n",
       "      <td>GeeksforGeeks</td>\n",
       "      <td>[11, data, geeksforgeeks, question, queue, str...</td>\n",
       "      <td>[11, data, geeksforgeeks, question, queue, str...</td>\n",
       "    </tr>\n",
       "    <tr>\n",
       "      <th>34570</th>\n",
       "      <td>Data Structures | Binary Trees | Question 1</td>\n",
       "      <td>GeeksforGeeks</td>\n",
       "      <td>[1, binary, data, geeksforgeeks, question, str...</td>\n",
       "      <td>[1, binary, data, geeksforgeeks, question, str...</td>\n",
       "    </tr>\n",
       "    <tr>\n",
       "      <th>34571</th>\n",
       "      <td>Amazon Interview | Set 9</td>\n",
       "      <td>GeeksforGeeks</td>\n",
       "      <td>[9, amazon, geeksforgeeks, interview, set, |]</td>\n",
       "      <td>[9, amazon, geeksforgeeks, interview, set, |]</td>\n",
       "    </tr>\n",
       "    <tr>\n",
       "      <th>34572</th>\n",
       "      <td>Python Program for Rat in a Maze | Backtracking-2</td>\n",
       "      <td>GeeksforGeeks</td>\n",
       "      <td>[backtracking-2, geeksforgeeks, maze, program,...</td>\n",
       "      <td>[backtracking-2, geeksforgeeks, maze, program,...</td>\n",
       "    </tr>\n",
       "    <tr>\n",
       "      <th>34573</th>\n",
       "      <td>Data Structures and Algorithms | Set 21</td>\n",
       "      <td>GeeksforGeeks</td>\n",
       "      <td>[21, algorithms, data, geeksforgeeks, set, str...</td>\n",
       "      <td>[21, algorithms, data, geeksforgeeks, set, str...</td>\n",
       "    </tr>\n",
       "  </tbody>\n",
       "</table>\n",
       "<p>34574 rows × 4 columns</p>\n",
       "</div>"
      ],
      "text/plain": [
       "                                                   title         author_id  \\\n",
       "0                 5 Best Practices For Writing SQL Joins       priyankab14   \n",
       "1                           Foundation CSS Dropdown Menu  ishankhandelwals   \n",
       "2           Top 20 Excel Shortcuts That You Need To Know       priyankab14   \n",
       "3                              Servlet – Fetching Result   nishatiwari1719   \n",
       "4                                       Suffix Sum Array          rohit768   \n",
       "...                                                  ...               ...   \n",
       "34569              Data Structures | Queue | Question 11     GeeksforGeeks   \n",
       "34570        Data Structures | Binary Trees | Question 1     GeeksforGeeks   \n",
       "34571                           Amazon Interview | Set 9     GeeksforGeeks   \n",
       "34572  Python Program for Rat in a Maze | Backtracking-2     GeeksforGeeks   \n",
       "34573            Data Structures and Algorithms | Set 21     GeeksforGeeks   \n",
       "\n",
       "                                        remove_stopwords  \\\n",
       "0      [5, best, joins, practices, priyankab14, sql, ...   \n",
       "1      [css, dropdown, foundation, ishankhandelwals, ...   \n",
       "2      [20, excel, know, need, priyankab14, shortcuts...   \n",
       "3        [fetching, nishatiwari1719, result, servlet, –]   \n",
       "4                         [array, rohit768, suffix, sum]   \n",
       "...                                                  ...   \n",
       "34569  [11, data, geeksforgeeks, question, queue, str...   \n",
       "34570  [1, binary, data, geeksforgeeks, question, str...   \n",
       "34571      [9, amazon, geeksforgeeks, interview, set, |]   \n",
       "34572  [backtracking-2, geeksforgeeks, maze, program,...   \n",
       "34573  [21, algorithms, data, geeksforgeeks, set, str...   \n",
       "\n",
       "                                        remove_duplicate  \n",
       "0      [5, best, joins, practices, priyankab14, sql, ...  \n",
       "1      [css, dropdown, foundation, ishankhandelwals, ...  \n",
       "2      [20, excel, know, need, priyankab14, shortcuts...  \n",
       "3        [fetching, nishatiwari1719, result, servlet, –]  \n",
       "4                         [array, rohit768, suffix, sum]  \n",
       "...                                                  ...  \n",
       "34569  [11, data, geeksforgeeks, question, queue, str...  \n",
       "34570  [1, binary, data, geeksforgeeks, question, str...  \n",
       "34571      [9, amazon, geeksforgeeks, interview, set, |]  \n",
       "34572  [backtracking-2, geeksforgeeks, maze, program,...  \n",
       "34573  [21, algorithms, data, geeksforgeeks, set, str...  \n",
       "\n",
       "[34574 rows x 4 columns]"
      ]
     },
     "execution_count": 6,
     "metadata": {},
     "output_type": "execute_result"
    }
   ],
   "source": [
    "data"
   ]
  },
  {
   "cell_type": "code",
   "execution_count": 7,
   "metadata": {},
   "outputs": [],
   "source": [
    "def tf(all_words) -> np.array:\n",
    "    if isinstance(all_words, str):\n",
    "        word_list = all_words.split(' ')\n",
    "        bow = np.zeros(len(word_list))\n",
    "        for word in all_words:\n",
    "            if word in word_list:\n",
    "                bow[word_list.index(word)] += 1\n",
    "            bow[word_list.index(word)] = bow[word_list.index(word)] / len(all_words)\n",
    "        return bow\n",
    "    \n",
    "    if isinstance(all_words, list):\n",
    "        word_list = all_words\n",
    "        bow = np.zeros(len(word_list))\n",
    "        for word in all_words:\n",
    "            if word in word_list:\n",
    "                bow[word_list.index(word)] += 1\n",
    "            bow[word_list.index(word)] = bow[word_list.index(word)] / len(all_words)\n",
    "        return bow"
   ]
  },
  {
   "cell_type": "code",
   "execution_count": 8,
   "metadata": {},
   "outputs": [
    {
     "data": {
      "text/plain": [
       "['css', 'difference', 'em', 'rem', 'units', 'user282']"
      ]
     },
     "execution_count": 8,
     "metadata": {},
     "output_type": "execute_result"
    }
   ],
   "source": [
    "data['remove_stopwords'][300]"
   ]
  },
  {
   "cell_type": "code",
   "execution_count": 9,
   "metadata": {},
   "outputs": [
    {
     "name": "stderr",
     "output_type": "stream",
     "text": [
      "100%|██████████| 34574/34574 [00:00<00:00, 252724.57it/s]\n"
     ]
    }
   ],
   "source": [
    "data[\"tf\"] = data[\"remove_stopwords\"].progress_apply(lambda x: tf(x))"
   ]
  },
  {
   "cell_type": "code",
   "execution_count": 10,
   "metadata": {},
   "outputs": [
    {
     "data": {
      "text/html": [
       "<div>\n",
       "<style scoped>\n",
       "    .dataframe tbody tr th:only-of-type {\n",
       "        vertical-align: middle;\n",
       "    }\n",
       "\n",
       "    .dataframe tbody tr th {\n",
       "        vertical-align: top;\n",
       "    }\n",
       "\n",
       "    .dataframe thead th {\n",
       "        text-align: right;\n",
       "    }\n",
       "</style>\n",
       "<table border=\"1\" class=\"dataframe\">\n",
       "  <thead>\n",
       "    <tr style=\"text-align: right;\">\n",
       "      <th></th>\n",
       "      <th>title</th>\n",
       "      <th>author_id</th>\n",
       "      <th>remove_stopwords</th>\n",
       "      <th>remove_duplicate</th>\n",
       "      <th>tf</th>\n",
       "    </tr>\n",
       "  </thead>\n",
       "  <tbody>\n",
       "    <tr>\n",
       "      <th>0</th>\n",
       "      <td>5 Best Practices For Writing SQL Joins</td>\n",
       "      <td>priyankab14</td>\n",
       "      <td>[5, best, joins, practices, priyankab14, sql, ...</td>\n",
       "      <td>[5, best, joins, practices, priyankab14, sql, ...</td>\n",
       "      <td>[0.14285714285714285, 0.14285714285714285, 0.1...</td>\n",
       "    </tr>\n",
       "    <tr>\n",
       "      <th>1</th>\n",
       "      <td>Foundation CSS Dropdown Menu</td>\n",
       "      <td>ishankhandelwals</td>\n",
       "      <td>[css, dropdown, foundation, ishankhandelwals, ...</td>\n",
       "      <td>[css, dropdown, foundation, ishankhandelwals, ...</td>\n",
       "      <td>[0.2, 0.2, 0.2, 0.2, 0.2]</td>\n",
       "    </tr>\n",
       "    <tr>\n",
       "      <th>2</th>\n",
       "      <td>Top 20 Excel Shortcuts That You Need To Know</td>\n",
       "      <td>priyankab14</td>\n",
       "      <td>[20, excel, know, need, priyankab14, shortcuts...</td>\n",
       "      <td>[20, excel, know, need, priyankab14, shortcuts...</td>\n",
       "      <td>[0.14285714285714285, 0.14285714285714285, 0.1...</td>\n",
       "    </tr>\n",
       "    <tr>\n",
       "      <th>3</th>\n",
       "      <td>Servlet – Fetching Result</td>\n",
       "      <td>nishatiwari1719</td>\n",
       "      <td>[fetching, nishatiwari1719, result, servlet, –]</td>\n",
       "      <td>[fetching, nishatiwari1719, result, servlet, –]</td>\n",
       "      <td>[0.2, 0.2, 0.2, 0.2, 0.2]</td>\n",
       "    </tr>\n",
       "    <tr>\n",
       "      <th>4</th>\n",
       "      <td>Suffix Sum Array</td>\n",
       "      <td>rohit768</td>\n",
       "      <td>[array, rohit768, suffix, sum]</td>\n",
       "      <td>[array, rohit768, suffix, sum]</td>\n",
       "      <td>[0.25, 0.25, 0.25, 0.25]</td>\n",
       "    </tr>\n",
       "    <tr>\n",
       "      <th>...</th>\n",
       "      <td>...</td>\n",
       "      <td>...</td>\n",
       "      <td>...</td>\n",
       "      <td>...</td>\n",
       "      <td>...</td>\n",
       "    </tr>\n",
       "    <tr>\n",
       "      <th>34569</th>\n",
       "      <td>Data Structures | Queue | Question 11</td>\n",
       "      <td>GeeksforGeeks</td>\n",
       "      <td>[11, data, geeksforgeeks, question, queue, str...</td>\n",
       "      <td>[11, data, geeksforgeeks, question, queue, str...</td>\n",
       "      <td>[0.14285714285714285, 0.14285714285714285, 0.1...</td>\n",
       "    </tr>\n",
       "    <tr>\n",
       "      <th>34570</th>\n",
       "      <td>Data Structures | Binary Trees | Question 1</td>\n",
       "      <td>GeeksforGeeks</td>\n",
       "      <td>[1, binary, data, geeksforgeeks, question, str...</td>\n",
       "      <td>[1, binary, data, geeksforgeeks, question, str...</td>\n",
       "      <td>[0.125, 0.125, 0.125, 0.125, 0.125, 0.125, 0.1...</td>\n",
       "    </tr>\n",
       "    <tr>\n",
       "      <th>34571</th>\n",
       "      <td>Amazon Interview | Set 9</td>\n",
       "      <td>GeeksforGeeks</td>\n",
       "      <td>[9, amazon, geeksforgeeks, interview, set, |]</td>\n",
       "      <td>[9, amazon, geeksforgeeks, interview, set, |]</td>\n",
       "      <td>[0.16666666666666666, 0.16666666666666666, 0.1...</td>\n",
       "    </tr>\n",
       "    <tr>\n",
       "      <th>34572</th>\n",
       "      <td>Python Program for Rat in a Maze | Backtracking-2</td>\n",
       "      <td>GeeksforGeeks</td>\n",
       "      <td>[backtracking-2, geeksforgeeks, maze, program,...</td>\n",
       "      <td>[backtracking-2, geeksforgeeks, maze, program,...</td>\n",
       "      <td>[0.14285714285714285, 0.14285714285714285, 0.1...</td>\n",
       "    </tr>\n",
       "    <tr>\n",
       "      <th>34573</th>\n",
       "      <td>Data Structures and Algorithms | Set 21</td>\n",
       "      <td>GeeksforGeeks</td>\n",
       "      <td>[21, algorithms, data, geeksforgeeks, set, str...</td>\n",
       "      <td>[21, algorithms, data, geeksforgeeks, set, str...</td>\n",
       "      <td>[0.14285714285714285, 0.14285714285714285, 0.1...</td>\n",
       "    </tr>\n",
       "  </tbody>\n",
       "</table>\n",
       "<p>34574 rows × 5 columns</p>\n",
       "</div>"
      ],
      "text/plain": [
       "                                                   title         author_id  \\\n",
       "0                 5 Best Practices For Writing SQL Joins       priyankab14   \n",
       "1                           Foundation CSS Dropdown Menu  ishankhandelwals   \n",
       "2           Top 20 Excel Shortcuts That You Need To Know       priyankab14   \n",
       "3                              Servlet – Fetching Result   nishatiwari1719   \n",
       "4                                       Suffix Sum Array          rohit768   \n",
       "...                                                  ...               ...   \n",
       "34569              Data Structures | Queue | Question 11     GeeksforGeeks   \n",
       "34570        Data Structures | Binary Trees | Question 1     GeeksforGeeks   \n",
       "34571                           Amazon Interview | Set 9     GeeksforGeeks   \n",
       "34572  Python Program for Rat in a Maze | Backtracking-2     GeeksforGeeks   \n",
       "34573            Data Structures and Algorithms | Set 21     GeeksforGeeks   \n",
       "\n",
       "                                        remove_stopwords  \\\n",
       "0      [5, best, joins, practices, priyankab14, sql, ...   \n",
       "1      [css, dropdown, foundation, ishankhandelwals, ...   \n",
       "2      [20, excel, know, need, priyankab14, shortcuts...   \n",
       "3        [fetching, nishatiwari1719, result, servlet, –]   \n",
       "4                         [array, rohit768, suffix, sum]   \n",
       "...                                                  ...   \n",
       "34569  [11, data, geeksforgeeks, question, queue, str...   \n",
       "34570  [1, binary, data, geeksforgeeks, question, str...   \n",
       "34571      [9, amazon, geeksforgeeks, interview, set, |]   \n",
       "34572  [backtracking-2, geeksforgeeks, maze, program,...   \n",
       "34573  [21, algorithms, data, geeksforgeeks, set, str...   \n",
       "\n",
       "                                        remove_duplicate  \\\n",
       "0      [5, best, joins, practices, priyankab14, sql, ...   \n",
       "1      [css, dropdown, foundation, ishankhandelwals, ...   \n",
       "2      [20, excel, know, need, priyankab14, shortcuts...   \n",
       "3        [fetching, nishatiwari1719, result, servlet, –]   \n",
       "4                         [array, rohit768, suffix, sum]   \n",
       "...                                                  ...   \n",
       "34569  [11, data, geeksforgeeks, question, queue, str...   \n",
       "34570  [1, binary, data, geeksforgeeks, question, str...   \n",
       "34571      [9, amazon, geeksforgeeks, interview, set, |]   \n",
       "34572  [backtracking-2, geeksforgeeks, maze, program,...   \n",
       "34573  [21, algorithms, data, geeksforgeeks, set, str...   \n",
       "\n",
       "                                                      tf  \n",
       "0      [0.14285714285714285, 0.14285714285714285, 0.1...  \n",
       "1                              [0.2, 0.2, 0.2, 0.2, 0.2]  \n",
       "2      [0.14285714285714285, 0.14285714285714285, 0.1...  \n",
       "3                              [0.2, 0.2, 0.2, 0.2, 0.2]  \n",
       "4                               [0.25, 0.25, 0.25, 0.25]  \n",
       "...                                                  ...  \n",
       "34569  [0.14285714285714285, 0.14285714285714285, 0.1...  \n",
       "34570  [0.125, 0.125, 0.125, 0.125, 0.125, 0.125, 0.1...  \n",
       "34571  [0.16666666666666666, 0.16666666666666666, 0.1...  \n",
       "34572  [0.14285714285714285, 0.14285714285714285, 0.1...  \n",
       "34573  [0.14285714285714285, 0.14285714285714285, 0.1...  \n",
       "\n",
       "[34574 rows x 5 columns]"
      ]
     },
     "execution_count": 10,
     "metadata": {},
     "output_type": "execute_result"
    }
   ],
   "source": [
    "data"
   ]
  },
  {
   "cell_type": "code",
   "execution_count": 11,
   "metadata": {},
   "outputs": [],
   "source": [
    "def idf(all_words: list[str]) -> pd.DataFrame:\n",
    "    df_dict = {}\n",
    "    idf_dict = {}\n",
    "\n",
    "    for sublist in all_words:\n",
    "        for item in sublist:\n",
    "            df_dict[item] = 0\n",
    "            idf_dict[item] = 0\n",
    "            \n",
    "    for key in tqdm(df_dict):\n",
    "        for sublist in all_words:\n",
    "            if key in sublist:\n",
    "                df_dict[key] += 1\n",
    "                \n",
    "        if df_dict[key] > 0:\n",
    "            idf_dict[key] = np.log((1+len(all_words))/(1+df_dict[key]))+1\n",
    "    \n",
    "    df1 = pd.DataFrame(list(df_dict.items()), columns=['value', 'df'])\n",
    "    df2 = pd.DataFrame(list(idf_dict.items()), columns=['value', 'idf'])\n",
    "\n",
    "    result = pd.merge(df1, df2, on='value')\n",
    "    \n",
    "    return result"
   ]
  },
  {
   "cell_type": "code",
   "execution_count": 12,
   "metadata": {},
   "outputs": [],
   "source": [
    "j = [['5', 'best', 'joins', 'practices', 'priyankab14', 'sql', 'writing'],\n",
    " ['css', 'dropdown', '5', 'ishankhandelwals', 'menu'],\n",
    " ['20', 'excel', 'know', 'need', 'priyankab14', 'shortcuts', 'top'],\n",
    " ['fetching', 'nishatiwari1719', 'result', 'servlet', '–']]"
   ]
  },
  {
   "cell_type": "code",
   "execution_count": 13,
   "metadata": {},
   "outputs": [
    {
     "name": "stderr",
     "output_type": "stream",
     "text": [
      " 65%|██████▍   | 15272/23558 [01:02<00:37, 219.40it/s]"
     ]
    }
   ],
   "source": [
    "data_idf = idf(data['remove_duplicate'])"
   ]
  },
  {
   "cell_type": "code",
   "execution_count": null,
   "metadata": {},
   "outputs": [],
   "source": [
    "data_idf"
   ]
  },
  {
   "cell_type": "code",
   "execution_count": null,
   "metadata": {},
   "outputs": [],
   "source": [
    "data"
   ]
  },
  {
   "cell_type": "code",
   "execution_count": null,
   "metadata": {},
   "outputs": [],
   "source": [
    "print(data_idf[data_idf['value'] == '5']['idf'])"
   ]
  },
  {
   "cell_type": "code",
   "execution_count": null,
   "metadata": {},
   "outputs": [],
   "source": [
    "len(data['tf'][0])"
   ]
  },
  {
   "cell_type": "code",
   "execution_count": null,
   "metadata": {},
   "outputs": [],
   "source": [
    "data_idf['tf_idf'] = 0"
   ]
  },
  {
   "cell_type": "code",
   "execution_count": null,
   "metadata": {},
   "outputs": [],
   "source": [
    "track_row = 0\n",
    "\n",
    "for r_idx, row in tqdm(enumerate(data['remove_duplicate'])):\n",
    "    track_sublist = 0\n",
    "    for i_idx, item in enumerate(row):\n",
    "        if track_sublist < len(data['tf'][r_idx]):\n",
    "            tfidf = data['tf'][r_idx][track_sublist] * (data_idf[data_idf['value'] == item]['idf'])\n",
    "            data_idf['tf_idf'][track_row] = tfidf\n",
    "            track_sublist += 1\n",
    "            track_row += 1"
   ]
  },
  {
   "cell_type": "code",
   "execution_count": null,
   "metadata": {},
   "outputs": [],
   "source": [
    "data_idf"
   ]
  },
  {
   "cell_type": "code",
   "execution_count": null,
   "metadata": {},
   "outputs": [],
   "source": [
    "# for r_idx, row in tqdm(enumerate(data['remove_duplicate'])):\n",
    "#     count = 0\n",
    "#     for i_idx, item in enumerate(row):\n",
    "#         if count < len(data['tf'][r_idx]):\n",
    "#             tfidf = data['tf'][r_idx][count] * (data_idf[data_idf['value'] == item]['idf'])\n",
    "#             data['tfidf'][r_idx] = tfidf\n",
    "#             count += 1\n",
    "#             print(tfidf)\n",
    "#     break"
   ]
  },
  {
   "cell_type": "code",
   "execution_count": null,
   "metadata": {},
   "outputs": [],
   "source": [
    "data"
   ]
  },
  {
   "cell_type": "code",
   "execution_count": null,
   "metadata": {},
   "outputs": [],
   "source": [
    "data_idf.to_csv('data_idf', index=0)\n",
    "data.to_csv('data', index=0)"
   ]
  },
  {
   "cell_type": "code",
   "execution_count": null,
   "metadata": {},
   "outputs": [],
   "source": [
    "# def cosine_similarity(a:np.array, b:np.array) -> float:\n",
    "#     return np.dot(a, b) / (np.dot(a,a) **.5) * (np.dot(b,b) ** 0.5)"
   ]
  },
  {
   "cell_type": "code",
   "execution_count": null,
   "metadata": {},
   "outputs": [],
   "source": [
    "# def get_similar_articles(text:int, data:pd.DataFrame=data, n:int=5, encoder=bow_encoder) -> pd.DataFrame:\n",
    "#     article_embbeding = encoder(text)\n",
    "#     print(\"Perform Searching...\") \n",
    "#     data[\"similarity\"] = data[\"embbeding\"].progress_apply(lambda x: cosine_similarity(article_embbeding, x))\n",
    "#     return data.sort_values(\"similarity\", ascending=False).head(n).reset_index(drop=True)"
   ]
  },
  {
   "cell_type": "code",
   "execution_count": null,
   "metadata": {},
   "outputs": [],
   "source": [
    "# text = \"How to generate byte code\"\n",
    "# results = get_similar_articles(text)\n",
    "# for idx, result in enumerate(results['title']):\n",
    "#     print(result, \"similarity:\", round(results['similarity'][idx], 3))\n",
    "#     print('-'*50)"
   ]
  },
  {
   "cell_type": "code",
   "execution_count": null,
   "metadata": {},
   "outputs": [],
   "source": []
  }
 ],
 "metadata": {
  "kernelspec": {
   "display_name": "base",
   "language": "python",
   "name": "python3"
  },
  "language_info": {
   "codemirror_mode": {
    "name": "ipython",
    "version": 3
   },
   "file_extension": ".py",
   "mimetype": "text/x-python",
   "name": "python",
   "nbconvert_exporter": "python",
   "pygments_lexer": "ipython3",
   "version": "3.12.3"
  }
 },
 "nbformat": 4,
 "nbformat_minor": 2
}
