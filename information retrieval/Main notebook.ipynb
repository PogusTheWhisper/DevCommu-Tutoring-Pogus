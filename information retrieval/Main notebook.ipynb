{
 "cells": [
  {
   "cell_type": "code",
   "execution_count": 122,
   "metadata": {},
   "outputs": [
    {
     "name": "stderr",
     "output_type": "stream",
     "text": [
      "[nltk_data] Downloading package stopwords to\n",
      "[nltk_data]     /Users/hirunkulphimsiri/nltk_data...\n",
      "[nltk_data]   Package stopwords is already up-to-date!\n"
     ]
    }
   ],
   "source": [
    "import pandas as pd\n",
    "import numpy as np\n",
    "from tqdm.auto import tqdm\n",
    "import nltk\n",
    "from nltk.corpus import stopwords\n",
    "nltk.download('stopwords')\n",
    "tqdm.pandas()"
   ]
  },
  {
   "cell_type": "code",
   "execution_count": 123,
   "metadata": {},
   "outputs": [
    {
     "data": {
      "text/html": [
       "<div>\n",
       "<style scoped>\n",
       "    .dataframe tbody tr th:only-of-type {\n",
       "        vertical-align: middle;\n",
       "    }\n",
       "\n",
       "    .dataframe tbody tr th {\n",
       "        vertical-align: top;\n",
       "    }\n",
       "\n",
       "    .dataframe thead th {\n",
       "        text-align: right;\n",
       "    }\n",
       "</style>\n",
       "<table border=\"1\" class=\"dataframe\">\n",
       "  <thead>\n",
       "    <tr style=\"text-align: right;\">\n",
       "      <th></th>\n",
       "      <th>title</th>\n",
       "      <th>author_id</th>\n",
       "    </tr>\n",
       "  </thead>\n",
       "  <tbody>\n",
       "    <tr>\n",
       "      <th>0</th>\n",
       "      <td>5 Best Practices For Writing SQL Joins</td>\n",
       "      <td>priyankab14</td>\n",
       "    </tr>\n",
       "    <tr>\n",
       "      <th>1</th>\n",
       "      <td>Foundation CSS Dropdown Menu</td>\n",
       "      <td>ishankhandelwals</td>\n",
       "    </tr>\n",
       "    <tr>\n",
       "      <th>2</th>\n",
       "      <td>Top 20 Excel Shortcuts That You Need To Know</td>\n",
       "      <td>priyankab14</td>\n",
       "    </tr>\n",
       "    <tr>\n",
       "      <th>3</th>\n",
       "      <td>Servlet – Fetching Result</td>\n",
       "      <td>nishatiwari1719</td>\n",
       "    </tr>\n",
       "    <tr>\n",
       "      <th>4</th>\n",
       "      <td>Suffix Sum Array</td>\n",
       "      <td>rohit768</td>\n",
       "    </tr>\n",
       "  </tbody>\n",
       "</table>\n",
       "</div>"
      ],
      "text/plain": [
       "                                          title         author_id\n",
       "0        5 Best Practices For Writing SQL Joins       priyankab14\n",
       "1                  Foundation CSS Dropdown Menu  ishankhandelwals\n",
       "2  Top 20 Excel Shortcuts That You Need To Know       priyankab14\n",
       "3                     Servlet – Fetching Result   nishatiwari1719\n",
       "4                              Suffix Sum Array          rohit768"
      ]
     },
     "execution_count": 123,
     "metadata": {},
     "output_type": "execute_result"
    }
   ],
   "source": [
    "data = pd.read_csv(\"data/articles.csv\")\n",
    "data = data.drop(list(data.columns)[2:], axis=1)\n",
    "data.head()"
   ]
  },
  {
   "cell_type": "code",
   "execution_count": 124,
   "metadata": {},
   "outputs": [
    {
     "name": "stdout",
     "output_type": "stream",
     "text": [
      "containing 17976 unique words\n"
     ]
    }
   ],
   "source": [
    "all_words: list[str] = []\n",
    "\n",
    "for i in range(len(data)):\n",
    "    words: list[str] = data[\"title\"][i].split(\" \")\n",
    "    for word in words:\n",
    "        all_words.append(word.lower())\n",
    "        \n",
    "all_words = list(set(all_words))\n",
    "# remove stopwords\n",
    "all_words = [word for word in all_words if word not in stopwords.words('english')]\n",
    "print(\"containing\", len(all_words), \"unique words\")"
   ]
  },
  {
   "cell_type": "code",
   "execution_count": 125,
   "metadata": {},
   "outputs": [],
   "source": [
    "def bow_encoder(text:str, word_list:list[str]=all_words) -> np.array:\n",
    "    bow = np.zeros(len(word_list))\n",
    "    for word in text.split():\n",
    "        if word in word_list:\n",
    "            bow[word_list.index(word)] += 1\n",
    "    return bow"
   ]
  },
  {
   "cell_type": "code",
   "execution_count": 126,
   "metadata": {},
   "outputs": [
    {
     "name": "stderr",
     "output_type": "stream",
     "text": [
      "100%|██████████| 34574/34574 [00:56<00:00, 612.15it/s]\n"
     ]
    }
   ],
   "source": [
    "data[\"embbeding\"] = data[\"title\"].progress_apply(lambda x: bow_encoder(x, all_words))"
   ]
  },
  {
   "cell_type": "code",
   "execution_count": 127,
   "metadata": {},
   "outputs": [],
   "source": [
    "def cosine_similarity(a:np.array, b:np.array) -> float:\n",
    "    return np.dot(a, b) / (np.dot(a,a) **.5) * (np.dot(b,b) ** .5)"
   ]
  },
  {
   "cell_type": "code",
   "execution_count": 138,
   "metadata": {},
   "outputs": [],
   "source": [
    "def get_similar_articles(text:int, data:pd.DataFrame=data, n:int=5, encoder=bow_encoder) -> pd.DataFrame:\n",
    "    article_embbeding = encoder(text)\n",
    "    print(\"Perform Searching...\") \n",
    "    data[\"similarity\"] = data[\"embbeding\"].progress_apply(lambda x: cosine_similarity(article_embbeding, x))\n",
    "    return data.sort_values(\"similarity\", ascending=False).head(n).reset_index(drop=True)"
   ]
  },
  {
   "cell_type": "code",
   "execution_count": 139,
   "metadata": {},
   "outputs": [
    {
     "name": "stdout",
     "output_type": "stream",
     "text": [
      "Perform Searching...\n"
     ]
    },
    {
     "name": "stderr",
     "output_type": "stream",
     "text": [
      "  0%|          | 0/34574 [00:00<?, ?it/s]"
     ]
    },
    {
     "name": "stderr",
     "output_type": "stream",
     "text": [
      "100%|██████████| 34574/34574 [00:03<00:00, 10105.55it/s]"
     ]
    },
    {
     "name": "stdout",
     "output_type": "stream",
     "text": [
      "How to generate byte code file in python ? similarity: 4.243\n",
      "8085 code to convert binary number to ASCII code similarity: 3.266\n",
      "Managed code and Unmanaged code in .NET similarity: 2.309\n",
      "DFA in LEX code which accepts even number of zeros and even number of ones similarity: 2.0\n",
      "Ayush Jaggi – Geek on the top | Get frustrated by TLEs and WAs, Higher the frustration – better the code similarity: 1.826\n"
     ]
    },
    {
     "name": "stderr",
     "output_type": "stream",
     "text": [
      "\n"
     ]
    }
   ],
   "source": [
    "text = \"How to generate byte code\"\n",
    "results = get_similar_articles(text)\n",
    "for idx, result in enumerate(results['title']):\n",
    "    print(result, \"similarity:\", round(results['similarity'][idx], 3))"
   ]
  },
  {
   "cell_type": "code",
   "execution_count": 137,
   "metadata": {},
   "outputs": [
    {
     "name": "stdout",
     "output_type": "stream",
     "text": [
      "Perform Searching...\n"
     ]
    },
    {
     "name": "stderr",
     "output_type": "stream",
     "text": [
      "100%|██████████| 34574/34574 [00:03<00:00, 9849.00it/s] "
     ]
    },
    {
     "name": "stdout",
     "output_type": "stream",
     "text": [
      "Using else conditional statement with for loop in python [similarity]: 3.162\n",
      "foreach() loop vs Stream foreach() vs Parallel Stream foreach() [similarity]: 2.646\n",
      "Print substring of a given string without using any string function and loop in C [similarity]: 2.236\n",
      "How to print a number 100 times without using loop and recursion in C? [similarity]: 2.0\n",
      "Time Complexity where loop variable is incremented by 1, 2, 3, 4 .. [similarity]: 2.0\n"
     ]
    },
    {
     "name": "stderr",
     "output_type": "stream",
     "text": [
      "\n"
     ]
    }
   ],
   "source": [
    "text = \"python for loop\"\n",
    "results = get_similar_articles(text)\n",
    "for idx, result in enumerate(results['title']):\n",
    "    print(result, \"[similarity]:\", round(results['similarity'][idx], 3))"
   ]
  },
  {
   "cell_type": "code",
   "execution_count": null,
   "metadata": {},
   "outputs": [],
   "source": []
  }
 ],
 "metadata": {
  "kernelspec": {
   "display_name": "base",
   "language": "python",
   "name": "python3"
  },
  "language_info": {
   "codemirror_mode": {
    "name": "ipython",
    "version": 3
   },
   "file_extension": ".py",
   "mimetype": "text/x-python",
   "name": "python",
   "nbconvert_exporter": "python",
   "pygments_lexer": "ipython3",
   "version": "3.10.9"
  }
 },
 "nbformat": 4,
 "nbformat_minor": 2
}
