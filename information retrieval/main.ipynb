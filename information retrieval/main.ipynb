{
 "cells": [
  {
   "cell_type": "code",
   "execution_count": 1,
   "metadata": {},
   "outputs": [],
   "source": [
    "import pandas as pd\n",
    "import numpy as np\n",
    "from tqdm import tqdm, tqdm_notebook\n",
    "import nltk\n",
    "from nltk.corpus import stopwords"
   ]
  },
  {
   "cell_type": "code",
   "execution_count": 3,
   "metadata": {},
   "outputs": [
    {
     "name": "stderr",
     "output_type": "stream",
     "text": [
      "[nltk_data] Downloading package stopwords to /Users/pogus-\n",
      "[nltk_data]     mac/nltk_data...\n",
      "[nltk_data]   Package stopwords is already up-to-date!\n"
     ]
    },
    {
     "data": {
      "text/plain": [
       "True"
      ]
     },
     "execution_count": 3,
     "metadata": {},
     "output_type": "execute_result"
    }
   ],
   "source": [
    "nltk.download('stopwords')"
   ]
  },
  {
   "cell_type": "code",
   "execution_count": 2,
   "metadata": {},
   "outputs": [
    {
     "data": {
      "text/html": [
       "<div>\n",
       "<style scoped>\n",
       "    .dataframe tbody tr th:only-of-type {\n",
       "        vertical-align: middle;\n",
       "    }\n",
       "\n",
       "    .dataframe tbody tr th {\n",
       "        vertical-align: top;\n",
       "    }\n",
       "\n",
       "    .dataframe thead th {\n",
       "        text-align: right;\n",
       "    }\n",
       "</style>\n",
       "<table border=\"1\" class=\"dataframe\">\n",
       "  <thead>\n",
       "    <tr style=\"text-align: right;\">\n",
       "      <th></th>\n",
       "      <th>title</th>\n",
       "      <th>author_id</th>\n",
       "      <th>last_updated</th>\n",
       "      <th>link</th>\n",
       "      <th>category</th>\n",
       "    </tr>\n",
       "  </thead>\n",
       "  <tbody>\n",
       "    <tr>\n",
       "      <th>0</th>\n",
       "      <td>5 Best Practices For Writing SQL Joins</td>\n",
       "      <td>priyankab14</td>\n",
       "      <td>21 Feb, 2022</td>\n",
       "      <td>https://www.geeksforgeeks.org/5-best-practices...</td>\n",
       "      <td>easy</td>\n",
       "    </tr>\n",
       "    <tr>\n",
       "      <th>1</th>\n",
       "      <td>Foundation CSS Dropdown Menu</td>\n",
       "      <td>ishankhandelwals</td>\n",
       "      <td>20 Feb, 2022</td>\n",
       "      <td>https://www.geeksforgeeks.org/foundation-css-d...</td>\n",
       "      <td>easy</td>\n",
       "    </tr>\n",
       "    <tr>\n",
       "      <th>2</th>\n",
       "      <td>Top 20 Excel Shortcuts That You Need To Know</td>\n",
       "      <td>priyankab14</td>\n",
       "      <td>17 Feb, 2022</td>\n",
       "      <td>https://www.geeksforgeeks.org/top-20-excel-sho...</td>\n",
       "      <td>easy</td>\n",
       "    </tr>\n",
       "    <tr>\n",
       "      <th>3</th>\n",
       "      <td>Servlet – Fetching Result</td>\n",
       "      <td>nishatiwari1719</td>\n",
       "      <td>17 Feb, 2022</td>\n",
       "      <td>https://www.geeksforgeeks.org/servlet-fetching...</td>\n",
       "      <td>easy</td>\n",
       "    </tr>\n",
       "    <tr>\n",
       "      <th>4</th>\n",
       "      <td>Suffix Sum Array</td>\n",
       "      <td>rohit768</td>\n",
       "      <td>21 Feb, 2022</td>\n",
       "      <td>https://www.geeksforgeeks.org/suffix-sum-array/</td>\n",
       "      <td>easy</td>\n",
       "    </tr>\n",
       "    <tr>\n",
       "      <th>5</th>\n",
       "      <td>Kelvin To Celsius Formula</td>\n",
       "      <td>ramneek2307</td>\n",
       "      <td>16 Feb, 2022</td>\n",
       "      <td>https://www.geeksforgeeks.org/kelvin-to-celsiu...</td>\n",
       "      <td>easy</td>\n",
       "    </tr>\n",
       "    <tr>\n",
       "      <th>6</th>\n",
       "      <td>How to Install MongoDB for VSCode?</td>\n",
       "      <td>ramneek2307</td>\n",
       "      <td>12 Feb, 2022</td>\n",
       "      <td>https://www.geeksforgeeks.org/how-to-install-m...</td>\n",
       "      <td>easy</td>\n",
       "    </tr>\n",
       "    <tr>\n",
       "      <th>7</th>\n",
       "      <td>7 Highest Paying Programming Languages For Fre...</td>\n",
       "      <td>vanshika4042</td>\n",
       "      <td>18 Feb, 2022</td>\n",
       "      <td>https://www.geeksforgeeks.org/7-highest-paying...</td>\n",
       "      <td>easy</td>\n",
       "    </tr>\n",
       "    <tr>\n",
       "      <th>8</th>\n",
       "      <td>Free Resume Builder By GeeksforGeeks – Create ...</td>\n",
       "      <td>GeeksforGeeks</td>\n",
       "      <td>08 Feb, 2022</td>\n",
       "      <td>https://www.geeksforgeeks.org/free-resume-buil...</td>\n",
       "      <td>easy</td>\n",
       "    </tr>\n",
       "    <tr>\n",
       "      <th>9</th>\n",
       "      <td>8 Best Tips to Improve Your JavaScript Skills</td>\n",
       "      <td>prateekjangid10</td>\n",
       "      <td>06 Feb, 2022</td>\n",
       "      <td>https://www.geeksforgeeks.org/8-best-tips-to-i...</td>\n",
       "      <td>easy</td>\n",
       "    </tr>\n",
       "  </tbody>\n",
       "</table>\n",
       "</div>"
      ],
      "text/plain": [
       "                                               title         author_id  \\\n",
       "0             5 Best Practices For Writing SQL Joins       priyankab14   \n",
       "1                       Foundation CSS Dropdown Menu  ishankhandelwals   \n",
       "2       Top 20 Excel Shortcuts That You Need To Know       priyankab14   \n",
       "3                          Servlet – Fetching Result   nishatiwari1719   \n",
       "4                                   Suffix Sum Array          rohit768   \n",
       "5                          Kelvin To Celsius Formula       ramneek2307   \n",
       "6                 How to Install MongoDB for VSCode?       ramneek2307   \n",
       "7  7 Highest Paying Programming Languages For Fre...      vanshika4042   \n",
       "8  Free Resume Builder By GeeksforGeeks – Create ...     GeeksforGeeks   \n",
       "9      8 Best Tips to Improve Your JavaScript Skills   prateekjangid10   \n",
       "\n",
       "   last_updated                                               link category  \n",
       "0  21 Feb, 2022  https://www.geeksforgeeks.org/5-best-practices...     easy  \n",
       "1  20 Feb, 2022  https://www.geeksforgeeks.org/foundation-css-d...     easy  \n",
       "2  17 Feb, 2022  https://www.geeksforgeeks.org/top-20-excel-sho...     easy  \n",
       "3  17 Feb, 2022  https://www.geeksforgeeks.org/servlet-fetching...     easy  \n",
       "4  21 Feb, 2022    https://www.geeksforgeeks.org/suffix-sum-array/     easy  \n",
       "5  16 Feb, 2022  https://www.geeksforgeeks.org/kelvin-to-celsiu...     easy  \n",
       "6  12 Feb, 2022  https://www.geeksforgeeks.org/how-to-install-m...     easy  \n",
       "7  18 Feb, 2022  https://www.geeksforgeeks.org/7-highest-paying...     easy  \n",
       "8  08 Feb, 2022  https://www.geeksforgeeks.org/free-resume-buil...     easy  \n",
       "9  06 Feb, 2022  https://www.geeksforgeeks.org/8-best-tips-to-i...     easy  "
      ]
     },
     "execution_count": 2,
     "metadata": {},
     "output_type": "execute_result"
    }
   ],
   "source": [
    "articles = pd.read_csv('articles.csv')\n",
    "articles.head(10)"
   ]
  },
  {
   "cell_type": "code",
   "execution_count": 3,
   "metadata": {},
   "outputs": [
    {
     "data": {
      "text/html": [
       "<div>\n",
       "<style scoped>\n",
       "    .dataframe tbody tr th:only-of-type {\n",
       "        vertical-align: middle;\n",
       "    }\n",
       "\n",
       "    .dataframe tbody tr th {\n",
       "        vertical-align: top;\n",
       "    }\n",
       "\n",
       "    .dataframe thead th {\n",
       "        text-align: right;\n",
       "    }\n",
       "</style>\n",
       "<table border=\"1\" class=\"dataframe\">\n",
       "  <thead>\n",
       "    <tr style=\"text-align: right;\">\n",
       "      <th></th>\n",
       "      <th>title</th>\n",
       "      <th>author_id</th>\n",
       "    </tr>\n",
       "  </thead>\n",
       "  <tbody>\n",
       "    <tr>\n",
       "      <th>0</th>\n",
       "      <td>5 Best Practices For Writing SQL Joins</td>\n",
       "      <td>priyankab14</td>\n",
       "    </tr>\n",
       "    <tr>\n",
       "      <th>1</th>\n",
       "      <td>Foundation CSS Dropdown Menu</td>\n",
       "      <td>ishankhandelwals</td>\n",
       "    </tr>\n",
       "    <tr>\n",
       "      <th>2</th>\n",
       "      <td>Top 20 Excel Shortcuts That You Need To Know</td>\n",
       "      <td>priyankab14</td>\n",
       "    </tr>\n",
       "    <tr>\n",
       "      <th>3</th>\n",
       "      <td>Servlet – Fetching Result</td>\n",
       "      <td>nishatiwari1719</td>\n",
       "    </tr>\n",
       "    <tr>\n",
       "      <th>4</th>\n",
       "      <td>Suffix Sum Array</td>\n",
       "      <td>rohit768</td>\n",
       "    </tr>\n",
       "    <tr>\n",
       "      <th>5</th>\n",
       "      <td>Kelvin To Celsius Formula</td>\n",
       "      <td>ramneek2307</td>\n",
       "    </tr>\n",
       "    <tr>\n",
       "      <th>6</th>\n",
       "      <td>How to Install MongoDB for VSCode?</td>\n",
       "      <td>ramneek2307</td>\n",
       "    </tr>\n",
       "    <tr>\n",
       "      <th>7</th>\n",
       "      <td>7 Highest Paying Programming Languages For Fre...</td>\n",
       "      <td>vanshika4042</td>\n",
       "    </tr>\n",
       "    <tr>\n",
       "      <th>8</th>\n",
       "      <td>Free Resume Builder By GeeksforGeeks – Create ...</td>\n",
       "      <td>GeeksforGeeks</td>\n",
       "    </tr>\n",
       "    <tr>\n",
       "      <th>9</th>\n",
       "      <td>8 Best Tips to Improve Your JavaScript Skills</td>\n",
       "      <td>prateekjangid10</td>\n",
       "    </tr>\n",
       "  </tbody>\n",
       "</table>\n",
       "</div>"
      ],
      "text/plain": [
       "                                               title         author_id\n",
       "0             5 Best Practices For Writing SQL Joins       priyankab14\n",
       "1                       Foundation CSS Dropdown Menu  ishankhandelwals\n",
       "2       Top 20 Excel Shortcuts That You Need To Know       priyankab14\n",
       "3                          Servlet – Fetching Result   nishatiwari1719\n",
       "4                                   Suffix Sum Array          rohit768\n",
       "5                          Kelvin To Celsius Formula       ramneek2307\n",
       "6                 How to Install MongoDB for VSCode?       ramneek2307\n",
       "7  7 Highest Paying Programming Languages For Fre...      vanshika4042\n",
       "8  Free Resume Builder By GeeksforGeeks – Create ...     GeeksforGeeks\n",
       "9      8 Best Tips to Improve Your JavaScript Skills   prateekjangid10"
      ]
     },
     "execution_count": 3,
     "metadata": {},
     "output_type": "execute_result"
    }
   ],
   "source": [
    "select_articles = articles[['title',\t'author_id']]\n",
    "select_articles.head(10)"
   ]
  },
  {
   "cell_type": "code",
   "execution_count": 4,
   "metadata": {},
   "outputs": [],
   "source": [
    "def extract_word(df:pd.core.frame.DataFrame):\n",
    "    word_list = set()\n",
    "    for row in range(len(df)):\n",
    "        words = df.loc[row, \"title\"].split(' ')\n",
    "        \n",
    "        for word in words:\n",
    "            word = word.lower()\n",
    "            word_list.add(word)\n",
    "    \n",
    "    return list(word_list)"
   ]
  },
  {
   "cell_type": "code",
   "execution_count": 167,
   "metadata": {},
   "outputs": [],
   "source": [
    "def data_embeding(text:str, word_list:list[str]=all_words):\n",
    "    text = text.lower()\n",
    "    text_list = text.split(' ')\n",
    "    bow = np.zeros(len(word_list))\n",
    "    for index, word in enumerate(word_list):\n",
    "        if word in text_list and word not in stopwords.words('english'):\n",
    "            bow[index] += 1\n",
    "    return bow"
   ]
  },
  {
   "cell_type": "code",
   "execution_count": 168,
   "metadata": {},
   "outputs": [],
   "source": [
    "all_words = extract_word(select_articles)"
   ]
  },
  {
   "cell_type": "code",
   "execution_count": 169,
   "metadata": {},
   "outputs": [
    {
     "data": {
      "text/plain": [
       "6.0"
      ]
     },
     "execution_count": 169,
     "metadata": {},
     "output_type": "execute_result"
    }
   ],
   "source": [
    "data_embeding('5 Best Practices For Writing SQL Joins', all_words).sum()"
   ]
  },
  {
   "cell_type": "code",
   "execution_count": 170,
   "metadata": {},
   "outputs": [],
   "source": [
    "tqdm.pandas(desc=\"Embeding\")"
   ]
  },
  {
   "cell_type": "code",
   "execution_count": 171,
   "metadata": {},
   "outputs": [
    {
     "name": "stderr",
     "output_type": "stream",
     "text": [
      "Embeding: 100%|██████████| 34574/34574 [00:42<00:00, 808.11it/s]\n",
      "/var/folders/4n/0k9v2lsj56ng0ks9yr1s471h0000gn/T/ipykernel_13448/1830604628.py:1: SettingWithCopyWarning: \n",
      "A value is trying to be set on a copy of a slice from a DataFrame.\n",
      "Try using .loc[row_indexer,col_indexer] = value instead\n",
      "\n",
      "See the caveats in the documentation: https://pandas.pydata.org/pandas-docs/stable/user_guide/indexing.html#returning-a-view-versus-a-copy\n",
      "  select_articles['embedding'] = select_articles['title'].progress_apply(lambda x: data_embeding(x, all_words))\n"
     ]
    }
   ],
   "source": [
    "select_articles['embedding'] = select_articles['title'].progress_apply(lambda x: data_embeding(x, all_words))"
   ]
  },
  {
   "cell_type": "code",
   "execution_count": 172,
   "metadata": {},
   "outputs": [
    {
     "data": {
      "text/html": [
       "<div>\n",
       "<style scoped>\n",
       "    .dataframe tbody tr th:only-of-type {\n",
       "        vertical-align: middle;\n",
       "    }\n",
       "\n",
       "    .dataframe tbody tr th {\n",
       "        vertical-align: top;\n",
       "    }\n",
       "\n",
       "    .dataframe thead th {\n",
       "        text-align: right;\n",
       "    }\n",
       "</style>\n",
       "<table border=\"1\" class=\"dataframe\">\n",
       "  <thead>\n",
       "    <tr style=\"text-align: right;\">\n",
       "      <th></th>\n",
       "      <th>title</th>\n",
       "      <th>author_id</th>\n",
       "      <th>embedding</th>\n",
       "      <th>similarity</th>\n",
       "    </tr>\n",
       "  </thead>\n",
       "  <tbody>\n",
       "    <tr>\n",
       "      <th>0</th>\n",
       "      <td>5 Best Practices For Writing SQL Joins</td>\n",
       "      <td>priyankab14</td>\n",
       "      <td>[0.0, 0.0, 0.0, 0.0, 0.0, 0.0, 0.0, 0.0, 0.0, ...</td>\n",
       "      <td>0.0</td>\n",
       "    </tr>\n",
       "    <tr>\n",
       "      <th>1</th>\n",
       "      <td>Foundation CSS Dropdown Menu</td>\n",
       "      <td>ishankhandelwals</td>\n",
       "      <td>[0.0, 0.0, 0.0, 0.0, 0.0, 0.0, 0.0, 0.0, 0.0, ...</td>\n",
       "      <td>0.0</td>\n",
       "    </tr>\n",
       "    <tr>\n",
       "      <th>2</th>\n",
       "      <td>Top 20 Excel Shortcuts That You Need To Know</td>\n",
       "      <td>priyankab14</td>\n",
       "      <td>[0.0, 0.0, 0.0, 0.0, 0.0, 0.0, 0.0, 0.0, 0.0, ...</td>\n",
       "      <td>0.0</td>\n",
       "    </tr>\n",
       "    <tr>\n",
       "      <th>3</th>\n",
       "      <td>Servlet – Fetching Result</td>\n",
       "      <td>nishatiwari1719</td>\n",
       "      <td>[0.0, 0.0, 0.0, 0.0, 0.0, 0.0, 0.0, 0.0, 0.0, ...</td>\n",
       "      <td>0.0</td>\n",
       "    </tr>\n",
       "    <tr>\n",
       "      <th>4</th>\n",
       "      <td>Suffix Sum Array</td>\n",
       "      <td>rohit768</td>\n",
       "      <td>[0.0, 0.0, 0.0, 0.0, 0.0, 0.0, 0.0, 0.0, 0.0, ...</td>\n",
       "      <td>0.0</td>\n",
       "    </tr>\n",
       "    <tr>\n",
       "      <th>...</th>\n",
       "      <td>...</td>\n",
       "      <td>...</td>\n",
       "      <td>...</td>\n",
       "      <td>...</td>\n",
       "    </tr>\n",
       "    <tr>\n",
       "      <th>34569</th>\n",
       "      <td>Data Structures | Queue | Question 11</td>\n",
       "      <td>GeeksforGeeks</td>\n",
       "      <td>[0.0, 0.0, 0.0, 0.0, 0.0, 0.0, 0.0, 0.0, 0.0, ...</td>\n",
       "      <td>0.0</td>\n",
       "    </tr>\n",
       "    <tr>\n",
       "      <th>34570</th>\n",
       "      <td>Data Structures | Binary Trees | Question 1</td>\n",
       "      <td>GeeksforGeeks</td>\n",
       "      <td>[0.0, 0.0, 0.0, 0.0, 0.0, 0.0, 0.0, 0.0, 0.0, ...</td>\n",
       "      <td>0.0</td>\n",
       "    </tr>\n",
       "    <tr>\n",
       "      <th>34571</th>\n",
       "      <td>Amazon Interview | Set 9</td>\n",
       "      <td>GeeksforGeeks</td>\n",
       "      <td>[0.0, 0.0, 0.0, 0.0, 0.0, 0.0, 0.0, 0.0, 0.0, ...</td>\n",
       "      <td>0.0</td>\n",
       "    </tr>\n",
       "    <tr>\n",
       "      <th>34572</th>\n",
       "      <td>Python Program for Rat in a Maze | Backtracking-2</td>\n",
       "      <td>GeeksforGeeks</td>\n",
       "      <td>[0.0, 0.0, 0.0, 0.0, 0.0, 0.0, 0.0, 0.0, 0.0, ...</td>\n",
       "      <td>0.0</td>\n",
       "    </tr>\n",
       "    <tr>\n",
       "      <th>34573</th>\n",
       "      <td>Data Structures and Algorithms | Set 21</td>\n",
       "      <td>GeeksforGeeks</td>\n",
       "      <td>[0.0, 0.0, 0.0, 0.0, 0.0, 0.0, 0.0, 0.0, 0.0, ...</td>\n",
       "      <td>0.0</td>\n",
       "    </tr>\n",
       "  </tbody>\n",
       "</table>\n",
       "<p>34574 rows × 4 columns</p>\n",
       "</div>"
      ],
      "text/plain": [
       "                                                   title         author_id  \\\n",
       "0                 5 Best Practices For Writing SQL Joins       priyankab14   \n",
       "1                           Foundation CSS Dropdown Menu  ishankhandelwals   \n",
       "2           Top 20 Excel Shortcuts That You Need To Know       priyankab14   \n",
       "3                              Servlet – Fetching Result   nishatiwari1719   \n",
       "4                                       Suffix Sum Array          rohit768   \n",
       "...                                                  ...               ...   \n",
       "34569              Data Structures | Queue | Question 11     GeeksforGeeks   \n",
       "34570        Data Structures | Binary Trees | Question 1     GeeksforGeeks   \n",
       "34571                           Amazon Interview | Set 9     GeeksforGeeks   \n",
       "34572  Python Program for Rat in a Maze | Backtracking-2     GeeksforGeeks   \n",
       "34573            Data Structures and Algorithms | Set 21     GeeksforGeeks   \n",
       "\n",
       "                                               embedding  similarity  \n",
       "0      [0.0, 0.0, 0.0, 0.0, 0.0, 0.0, 0.0, 0.0, 0.0, ...         0.0  \n",
       "1      [0.0, 0.0, 0.0, 0.0, 0.0, 0.0, 0.0, 0.0, 0.0, ...         0.0  \n",
       "2      [0.0, 0.0, 0.0, 0.0, 0.0, 0.0, 0.0, 0.0, 0.0, ...         0.0  \n",
       "3      [0.0, 0.0, 0.0, 0.0, 0.0, 0.0, 0.0, 0.0, 0.0, ...         0.0  \n",
       "4      [0.0, 0.0, 0.0, 0.0, 0.0, 0.0, 0.0, 0.0, 0.0, ...         0.0  \n",
       "...                                                  ...         ...  \n",
       "34569  [0.0, 0.0, 0.0, 0.0, 0.0, 0.0, 0.0, 0.0, 0.0, ...         0.0  \n",
       "34570  [0.0, 0.0, 0.0, 0.0, 0.0, 0.0, 0.0, 0.0, 0.0, ...         0.0  \n",
       "34571  [0.0, 0.0, 0.0, 0.0, 0.0, 0.0, 0.0, 0.0, 0.0, ...         0.0  \n",
       "34572  [0.0, 0.0, 0.0, 0.0, 0.0, 0.0, 0.0, 0.0, 0.0, ...         0.0  \n",
       "34573  [0.0, 0.0, 0.0, 0.0, 0.0, 0.0, 0.0, 0.0, 0.0, ...         0.0  \n",
       "\n",
       "[34574 rows x 4 columns]"
      ]
     },
     "execution_count": 172,
     "metadata": {},
     "output_type": "execute_result"
    }
   ],
   "source": [
    "select_articles"
   ]
  },
  {
   "cell_type": "code",
   "execution_count": 173,
   "metadata": {},
   "outputs": [],
   "source": [
    "def cosine_similarity(a, b):\n",
    "    return np.dot(a, b) / (np.dot(a, a)) ** 0.5 * (np.dot(b, b)) ** 0.5"
   ]
  },
  {
   "cell_type": "code",
   "execution_count": 202,
   "metadata": {},
   "outputs": [],
   "source": [
    "text_input = 'How to generate byte code'"
   ]
  },
  {
   "cell_type": "code",
   "execution_count": 203,
   "metadata": {},
   "outputs": [],
   "source": [
    "text_input = data_embeding(text_input)"
   ]
  },
  {
   "cell_type": "code",
   "execution_count": 204,
   "metadata": {},
   "outputs": [
    {
     "name": "stderr",
     "output_type": "stream",
     "text": [
      "Embeding: 100%|██████████| 34574/34574 [00:02<00:00, 15799.53it/s]\n",
      "/var/folders/4n/0k9v2lsj56ng0ks9yr1s471h0000gn/T/ipykernel_13448/2365810155.py:1: SettingWithCopyWarning: \n",
      "A value is trying to be set on a copy of a slice from a DataFrame.\n",
      "Try using .loc[row_indexer,col_indexer] = value instead\n",
      "\n",
      "See the caveats in the documentation: https://pandas.pydata.org/pandas-docs/stable/user_guide/indexing.html#returning-a-view-versus-a-copy\n",
      "  select_articles[\"similarity\"] = select_articles[\"embedding\"].progress_apply(lambda x: cosine_similarity(text_input, x))\n"
     ]
    }
   ],
   "source": [
    "select_articles[\"similarity\"] = select_articles[\"embedding\"].progress_apply(lambda x: cosine_similarity(text_input, x))"
   ]
  },
  {
   "cell_type": "code",
   "execution_count": 205,
   "metadata": {},
   "outputs": [],
   "source": [
    "results = select_articles.sort_values('similarity', ascending=False).head(10).reset_index()"
   ]
  },
  {
   "cell_type": "code",
   "execution_count": 206,
   "metadata": {},
   "outputs": [
    {
     "data": {
      "text/html": [
       "<div>\n",
       "<style scoped>\n",
       "    .dataframe tbody tr th:only-of-type {\n",
       "        vertical-align: middle;\n",
       "    }\n",
       "\n",
       "    .dataframe tbody tr th {\n",
       "        vertical-align: top;\n",
       "    }\n",
       "\n",
       "    .dataframe thead th {\n",
       "        text-align: right;\n",
       "    }\n",
       "</style>\n",
       "<table border=\"1\" class=\"dataframe\">\n",
       "  <thead>\n",
       "    <tr style=\"text-align: right;\">\n",
       "      <th></th>\n",
       "      <th>index</th>\n",
       "      <th>title</th>\n",
       "      <th>author_id</th>\n",
       "      <th>embedding</th>\n",
       "      <th>similarity</th>\n",
       "    </tr>\n",
       "  </thead>\n",
       "  <tbody>\n",
       "    <tr>\n",
       "      <th>0</th>\n",
       "      <td>6420</td>\n",
       "      <td>How to generate byte code file in python ?</td>\n",
       "      <td>GeeksforGeeks</td>\n",
       "      <td>[0.0, 0.0, 0.0, 0.0, 0.0, 0.0, 0.0, 0.0, 0.0, ...</td>\n",
       "      <td>4.242641</td>\n",
       "    </tr>\n",
       "    <tr>\n",
       "      <th>1</th>\n",
       "      <td>23375</td>\n",
       "      <td>Python | Generate QR Code using pyqrcode module</td>\n",
       "      <td>sahil_rajput</td>\n",
       "      <td>[0.0, 0.0, 0.0, 0.0, 0.0, 0.0, 0.0, 0.0, 0.0, ...</td>\n",
       "      <td>3.265986</td>\n",
       "    </tr>\n",
       "    <tr>\n",
       "      <th>2</th>\n",
       "      <td>31850</td>\n",
       "      <td>Code to generate the map of India (with explan...</td>\n",
       "      <td>GeeksforGeeks</td>\n",
       "      <td>[0.0, 0.0, 0.0, 0.0, 0.0, 0.0, 0.0, 0.0, 0.0, ...</td>\n",
       "      <td>2.828427</td>\n",
       "    </tr>\n",
       "    <tr>\n",
       "      <th>3</th>\n",
       "      <td>28923</td>\n",
       "      <td>Generate QR code using AngularJS</td>\n",
       "      <td>mukulbindal170299</td>\n",
       "      <td>[0.0, 0.0, 0.0, 0.0, 0.0, 0.0, 0.0, 0.0, 0.0, ...</td>\n",
       "      <td>2.581989</td>\n",
       "    </tr>\n",
       "    <tr>\n",
       "      <th>4</th>\n",
       "      <td>11127</td>\n",
       "      <td>Difference Between Source Code and Byte Code</td>\n",
       "      <td>Satyabrata_Jena</td>\n",
       "      <td>[0.0, 0.0, 0.0, 0.0, 0.0, 0.0, 0.0, 0.0, 0.0, ...</td>\n",
       "      <td>2.309401</td>\n",
       "    </tr>\n",
       "    <tr>\n",
       "      <th>5</th>\n",
       "      <td>11156</td>\n",
       "      <td>Difference between Byte Code and Machine Code</td>\n",
       "      <td>Satyabrata_Jena</td>\n",
       "      <td>[0.0, 0.0, 0.0, 0.0, 0.0, 0.0, 0.0, 0.0, 0.0, ...</td>\n",
       "      <td>2.309401</td>\n",
       "    </tr>\n",
       "    <tr>\n",
       "      <th>6</th>\n",
       "      <td>26599</td>\n",
       "      <td>Aashish Barnwal – Geek on the top | Make a hab...</td>\n",
       "      <td>GeeksforGeeks</td>\n",
       "      <td>[0.0, 0.0, 0.0, 0.0, 0.0, 0.0, 0.0, 0.0, 0.0, ...</td>\n",
       "      <td>2.160247</td>\n",
       "    </tr>\n",
       "    <tr>\n",
       "      <th>7</th>\n",
       "      <td>31826</td>\n",
       "      <td>Ayush Jaggi – Geek on the top | Get frustrated...</td>\n",
       "      <td>GeeksforGeeks</td>\n",
       "      <td>[0.0, 0.0, 0.0, 0.0, 0.0, 0.0, 0.0, 0.0, 0.0, ...</td>\n",
       "      <td>2.160247</td>\n",
       "    </tr>\n",
       "    <tr>\n",
       "      <th>8</th>\n",
       "      <td>428</td>\n",
       "      <td>Generate a sequence with product N such that f...</td>\n",
       "      <td>tier10coder</td>\n",
       "      <td>[0.0, 0.0, 0.0, 0.0, 0.0, 0.0, 0.0, 0.0, 0.0, ...</td>\n",
       "      <td>2.160247</td>\n",
       "    </tr>\n",
       "    <tr>\n",
       "      <th>9</th>\n",
       "      <td>31556</td>\n",
       "      <td>Understanding ShellExecute function and it’s a...</td>\n",
       "      <td>GeeksforGeeks</td>\n",
       "      <td>[0.0, 0.0, 0.0, 0.0, 0.0, 0.0, 0.0, 0.0, 0.0, ...</td>\n",
       "      <td>2.081666</td>\n",
       "    </tr>\n",
       "  </tbody>\n",
       "</table>\n",
       "</div>"
      ],
      "text/plain": [
       "   index                                              title  \\\n",
       "0   6420         How to generate byte code file in python ?   \n",
       "1  23375    Python | Generate QR Code using pyqrcode module   \n",
       "2  31850  Code to generate the map of India (with explan...   \n",
       "3  28923                   Generate QR code using AngularJS   \n",
       "4  11127       Difference Between Source Code and Byte Code   \n",
       "5  11156      Difference between Byte Code and Machine Code   \n",
       "6  26599  Aashish Barnwal – Geek on the top | Make a hab...   \n",
       "7  31826  Ayush Jaggi – Geek on the top | Get frustrated...   \n",
       "8    428  Generate a sequence with product N such that f...   \n",
       "9  31556  Understanding ShellExecute function and it’s a...   \n",
       "\n",
       "           author_id                                          embedding  \\\n",
       "0      GeeksforGeeks  [0.0, 0.0, 0.0, 0.0, 0.0, 0.0, 0.0, 0.0, 0.0, ...   \n",
       "1       sahil_rajput  [0.0, 0.0, 0.0, 0.0, 0.0, 0.0, 0.0, 0.0, 0.0, ...   \n",
       "2      GeeksforGeeks  [0.0, 0.0, 0.0, 0.0, 0.0, 0.0, 0.0, 0.0, 0.0, ...   \n",
       "3  mukulbindal170299  [0.0, 0.0, 0.0, 0.0, 0.0, 0.0, 0.0, 0.0, 0.0, ...   \n",
       "4    Satyabrata_Jena  [0.0, 0.0, 0.0, 0.0, 0.0, 0.0, 0.0, 0.0, 0.0, ...   \n",
       "5    Satyabrata_Jena  [0.0, 0.0, 0.0, 0.0, 0.0, 0.0, 0.0, 0.0, 0.0, ...   \n",
       "6      GeeksforGeeks  [0.0, 0.0, 0.0, 0.0, 0.0, 0.0, 0.0, 0.0, 0.0, ...   \n",
       "7      GeeksforGeeks  [0.0, 0.0, 0.0, 0.0, 0.0, 0.0, 0.0, 0.0, 0.0, ...   \n",
       "8        tier10coder  [0.0, 0.0, 0.0, 0.0, 0.0, 0.0, 0.0, 0.0, 0.0, ...   \n",
       "9      GeeksforGeeks  [0.0, 0.0, 0.0, 0.0, 0.0, 0.0, 0.0, 0.0, 0.0, ...   \n",
       "\n",
       "   similarity  \n",
       "0    4.242641  \n",
       "1    3.265986  \n",
       "2    2.828427  \n",
       "3    2.581989  \n",
       "4    2.309401  \n",
       "5    2.309401  \n",
       "6    2.160247  \n",
       "7    2.160247  \n",
       "8    2.160247  \n",
       "9    2.081666  "
      ]
     },
     "execution_count": 206,
     "metadata": {},
     "output_type": "execute_result"
    }
   ],
   "source": [
    "results.head(10)"
   ]
  },
  {
   "cell_type": "code",
   "execution_count": 207,
   "metadata": {},
   "outputs": [
    {
     "name": "stdout",
     "output_type": "stream",
     "text": [
      "How to generate byte code file in python ? [similarity]: 4.242640687119285\n",
      "Python | Generate QR Code using pyqrcode module [similarity]: 3.2659863237109046\n",
      "Code to generate the map of India (with explanation) [similarity]: 2.8284271247461903\n",
      "Generate QR code using AngularJS [similarity]: 2.5819888974716116\n",
      "Difference Between Source Code and Byte Code [similarity]: 2.3094010767585034\n",
      "Difference between Byte Code and Machine Code [similarity]: 2.3094010767585034\n",
      "Aashish Barnwal – Geek on the top | Make a habit of writing clean, readable, flexible and robust code [similarity]: 2.160246899469287\n",
      "Ayush Jaggi – Geek on the top | Get frustrated by TLEs and WAs, Higher the frustration – better the code [similarity]: 2.160246899469287\n",
      "Generate a sequence with product N such that for every pair of indices (i, j) and i < j, arr[j] is divisible by arr[i] [similarity]: 2.160246899469287\n",
      "Understanding ShellExecute function and it’s application to open a list of URLs present in a file using C++ code [similarity]: 2.081665999466133\n"
     ]
    }
   ],
   "source": [
    "for idx, result in enumerate(results['title']):\n",
    "    print(result, \"[similarity]:\", results['similarity'][idx])"
   ]
  },
  {
   "cell_type": "code",
   "execution_count": 208,
   "metadata": {},
   "outputs": [
    {
     "data": {
      "text/plain": [
       "179"
      ]
     },
     "execution_count": 208,
     "metadata": {},
     "output_type": "execute_result"
    }
   ],
   "source": [
    "len(stopwords.words('english'))"
   ]
  },
  {
   "cell_type": "code",
   "execution_count": 5,
   "metadata": {},
   "outputs": [],
   "source": [
    "import requests"
   ]
  },
  {
   "cell_type": "code",
   "execution_count": 6,
   "metadata": {},
   "outputs": [
    {
     "name": "stdout",
     "output_type": "stream",
     "text": [
      "Typhoon Error: 404 <!DOCTYPE html>\n",
      "<html lang=\"en-US\" dir=\"ltr\">\n",
      "  <head>\n",
      "    <link rel=\"preload\" href=\"https://cdn.ngrok.com/static/fonts/euclid-square/EuclidSquare-Regular-WebS.woff\" as=\"font\" type=\"font/woff\" crossorigin=\"anonymous\" />\n",
      "    <link rel=\"preload\" href=\"https://cdn.ngrok.com/static/fonts/euclid-square/EuclidSquare-RegularItalic-WebS.woff\" as=\"font\" type=\"font/woff\" crossorigin=\"anonymous\" />\n",
      "    <link rel=\"preload\" href=\"https://cdn.ngrok.com/static/fonts/euclid-square/EuclidSquare-Medium-WebS.woff\" as=\"font\" type=\"font/woff\" crossorigin=\"anonymous\" />\n",
      "    <link rel=\"preload\" href=\"https://cdn.ngrok.com/static/fonts/euclid-square/EuclidSquare-Semibold-WebS.woff\" as=\"font\" type=\"font/woff\" crossorigin=\"anonymous\" />\n",
      "    <link rel=\"preload\" href=\"https://cdn.ngrok.com/static/fonts/euclid-square/EuclidSquare-MediumItalic-WebS.woff\" as=\"font\" type=\"font/woff\" crossorigin=\"anonymous\" />\n",
      "    <link rel=\"preload\" href=\"https://cdn.ngrok.com/static/fonts/ibm-plex-mono/IBMPlexMono-Text.woff\" as=\"font\" type=\"font/woff\" crossorigin=\"anonymous\" />\n",
      "    <link rel=\"preload\" href=\"https://cdn.ngrok.com/static/fonts/ibm-plex-mono/IBMPlexMono-TextItalic.woff\" as=\"font\" type=\"font/woff\" crossorigin=\"anonymous\" />\n",
      "    <link rel=\"preload\" href=\"https://cdn.ngrok.com/static/fonts/ibm-plex-mono/IBMPlexMono-SemiBold.woff\" as=\"font\" type=\"font/woff\" crossorigin=\"anonymous\" />\n",
      "    <link rel=\"preload\" href=\"https://cdn.ngrok.com/static/fonts/ibm-plex-mono/IBMPlexMono-SemiBoldItalic.woff\" as=\"font\" type=\"font/woff\" crossorigin=\"anonymous\" />\n",
      "    <meta charset=\"utf-8\">\n",
      "    <meta name=\"author\" content=\"ngrok\">\n",
      "    <meta name=\"description\" content=\"ngrok is the fastest way to put anything on the internet with a single command.\">\n",
      "    <meta name=\"robots\" content=\"noindex, nofollow\">\n",
      "    <meta name=\"viewport\" content=\"width=device-width, initial-scale=1\">\n",
      "    <link id=\"style\" rel=\"stylesheet\" href=\"https://cdn.ngrok.com/static/css/error.css\">\n",
      "    <noscript>Tunnel df42-34-83-169-196.ngrok-free.app not found (ERR_NGROK_3200)</noscript>\n",
      "    <script id=\"script\" src=\"https://cdn.ngrok.com/static/js/error.js\" type=\"text/javascript\"></script>\n",
      "  </head>\n",
      "  <body id=\"ngrok\">\n",
      "    <div id=\"root\" data-payload=\"eyJjZG5CYXNlIjoiaHR0cHM6Ly9jZG4ubmdyb2suY29tLyIsImNvZGUiOiIzMjAwIiwibWVzc2FnZSI6IlR1bm5lbCBkZjQyLTM0LTgzLTE2OS0xOTYubmdyb2stZnJlZS5hcHAgbm90IGZvdW5kIiwidGl0bGUiOiJOb3QgRm91bmQifQ==\"></div>\n",
      "  </body>\n",
      "</html>\n",
      "\n",
      "Openthaigpt Error: 404 <!DOCTYPE html>\n",
      "<html lang=\"en-US\" dir=\"ltr\">\n",
      "  <head>\n",
      "    <link rel=\"preload\" href=\"https://cdn.ngrok.com/static/fonts/euclid-square/EuclidSquare-Regular-WebS.woff\" as=\"font\" type=\"font/woff\" crossorigin=\"anonymous\" />\n",
      "    <link rel=\"preload\" href=\"https://cdn.ngrok.com/static/fonts/euclid-square/EuclidSquare-RegularItalic-WebS.woff\" as=\"font\" type=\"font/woff\" crossorigin=\"anonymous\" />\n",
      "    <link rel=\"preload\" href=\"https://cdn.ngrok.com/static/fonts/euclid-square/EuclidSquare-Medium-WebS.woff\" as=\"font\" type=\"font/woff\" crossorigin=\"anonymous\" />\n",
      "    <link rel=\"preload\" href=\"https://cdn.ngrok.com/static/fonts/euclid-square/EuclidSquare-Semibold-WebS.woff\" as=\"font\" type=\"font/woff\" crossorigin=\"anonymous\" />\n",
      "    <link rel=\"preload\" href=\"https://cdn.ngrok.com/static/fonts/euclid-square/EuclidSquare-MediumItalic-WebS.woff\" as=\"font\" type=\"font/woff\" crossorigin=\"anonymous\" />\n",
      "    <link rel=\"preload\" href=\"https://cdn.ngrok.com/static/fonts/ibm-plex-mono/IBMPlexMono-Text.woff\" as=\"font\" type=\"font/woff\" crossorigin=\"anonymous\" />\n",
      "    <link rel=\"preload\" href=\"https://cdn.ngrok.com/static/fonts/ibm-plex-mono/IBMPlexMono-TextItalic.woff\" as=\"font\" type=\"font/woff\" crossorigin=\"anonymous\" />\n",
      "    <link rel=\"preload\" href=\"https://cdn.ngrok.com/static/fonts/ibm-plex-mono/IBMPlexMono-SemiBold.woff\" as=\"font\" type=\"font/woff\" crossorigin=\"anonymous\" />\n",
      "    <link rel=\"preload\" href=\"https://cdn.ngrok.com/static/fonts/ibm-plex-mono/IBMPlexMono-SemiBoldItalic.woff\" as=\"font\" type=\"font/woff\" crossorigin=\"anonymous\" />\n",
      "    <meta charset=\"utf-8\">\n",
      "    <meta name=\"author\" content=\"ngrok\">\n",
      "    <meta name=\"description\" content=\"ngrok is the fastest way to put anything on the internet with a single command.\">\n",
      "    <meta name=\"robots\" content=\"noindex, nofollow\">\n",
      "    <meta name=\"viewport\" content=\"width=device-width, initial-scale=1\">\n",
      "    <link id=\"style\" rel=\"stylesheet\" href=\"https://cdn.ngrok.com/static/css/error.css\">\n",
      "    <noscript>Tunnel df42-34-83-169-196.ngrok-free.app not found (ERR_NGROK_3200)</noscript>\n",
      "    <script id=\"script\" src=\"https://cdn.ngrok.com/static/js/error.js\" type=\"text/javascript\"></script>\n",
      "  </head>\n",
      "  <body id=\"ngrok\">\n",
      "    <div id=\"root\" data-payload=\"eyJjZG5CYXNlIjoiaHR0cHM6Ly9jZG4ubmdyb2suY29tLyIsImNvZGUiOiIzMjAwIiwibWVzc2FnZSI6IlR1bm5lbCBkZjQyLTM0LTgzLTE2OS0xOTYubmdyb2stZnJlZS5hcHAgbm90IGZvdW5kIiwidGl0bGUiOiJOb3QgRm91bmQifQ==\"></div>\n",
      "  </body>\n",
      "</html>\n",
      "\n"
     ]
    }
   ],
   "source": [
    "ngrok_url = \"https://df42-34-83-169-196.ngrok-free.app\"  # Replace with your actual Ngrok URL\n",
    "\n",
    "input_text = \"วันนี้ฉันจะมานำเสนอของที่มีชื่อว่า โบแมน เสื้อตัวนี้เป็นเสื้อเชิ้ตเส้นเดียวเปิดหลัง จำนวน 3 จำนวน ชิ้นละประมาณ 150 บาท ซื้อ 5 ตัว แถม 1 ชิ้น และยังแถมมีประเป่าขนาด 50*50 ที่สามารถบันจุน้ำหนักได้ 40 น้ำหนัก\"\n",
    "\n",
    "# Send request to /generate-typhoon-response\n",
    "response_typhoon = requests.post(f\"{ngrok_url}/generate-typhoon-response\", json={\"input_text\": input_text})\n",
    "if response_typhoon.status_code == 200:\n",
    "    result_typhoon = response_typhoon.json()\n",
    "    print(\"Typhoon Response:\", result_typhoon)\n",
    "else:\n",
    "    print(\"Typhoon Error:\", response_typhoon.status_code, response_typhoon.text)\n",
    "\n",
    "# Send request to /generate-openthaigpt-response\n",
    "response_openthaigpt = requests.post(f\"{ngrok_url}/generate-openthaigpt-response\", json={\"input_text\": input_text})\n",
    "if response_openthaigpt.status_code == 200:\n",
    "    result_openthaigpt = response_openthaigpt.json()\n",
    "    print(\"Openthaigpt Response:\", result_openthaigpt)\n",
    "else:\n",
    "    print(\"Openthaigpt Error:\", response_openthaigpt.status_code, response_openthaigpt.text)\n"
   ]
  },
  {
   "cell_type": "code",
   "execution_count": null,
   "metadata": {},
   "outputs": [],
   "source": []
  }
 ],
 "metadata": {
  "kernelspec": {
   "display_name": ".venv",
   "language": "python",
   "name": "python3"
  },
  "language_info": {
   "codemirror_mode": {
    "name": "ipython",
    "version": 3
   },
   "file_extension": ".py",
   "mimetype": "text/x-python",
   "name": "python",
   "nbconvert_exporter": "python",
   "pygments_lexer": "ipython3",
   "version": "3.11.6"
  }
 },
 "nbformat": 4,
 "nbformat_minor": 2
}
